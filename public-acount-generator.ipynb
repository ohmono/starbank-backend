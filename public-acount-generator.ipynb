{
 "metadata": {
  "language_info": {
   "codemirror_mode": {
    "name": "ipython",
    "version": 3
   },
   "file_extension": ".py",
   "mimetype": "text/x-python",
   "name": "python",
   "nbconvert_exporter": "python",
   "pygments_lexer": "ipython3",
   "version": "3.8.7"
  },
  "orig_nbformat": 2,
  "kernelspec": {
   "name": "python387jvsc74a57bd0cc691cb6f78b01aaf214942beb8a08c177de914380e5fed5a73e560f28ba4ae2",
   "display_name": "Python 3.8.7 64-bit"
  },
  "metadata": {
   "interpreter": {
    "hash": "cc691cb6f78b01aaf214942beb8a08c177de914380e5fed5a73e560f28ba4ae2"
   }
  }
 },
 "nbformat": 4,
 "nbformat_minor": 2,
 "cells": [
  {
   "source": [
    "https://stackoverflow.com/questions/306400/how-to-randomly-select-an-item-from-a-list\n",
    "\n",
    "https://stackoverflow.com/questions/32490629/getting-todays-date-in-yyyy-mm-dd-in-python\n",
    "\n",
    "https://realpython.com/python-sleep/\n",
    "\n",
    "https://www.w3schools.com/python/gloss_python_dictionary_add_item.asp\n",
    "\n",
    "https://flaviocopes.com/express-send-json-response/\n",
    "\n",
    "https://stackoverflow.com/questions/18810777/how-do-i-read-a-response-from-python-requests\n",
    "\n",
    "https://stackoverflow.com/questions/9733638/how-to-post-json-data-with-python-requests\n",
    "\n",
    "https://www.freecodecamp.org/news/javascript-date-now-how-to-get-the-current-date-in-javascript/\n",
    "\n",
    "https://developer.mozilla.org/es/docs/Web/JavaScript/Reference/Statements/if...else\n",
    "\n",
    "https://developer.mozilla.org/es/docs/Web/JavaScript/Reference/Statements/while\n",
    "\n",
    "https://developer.mozilla.org/es/docs/Learn/JavaScript/Objects/JSON\n",
    "\n",
    "https://stackoverflow.com/questions/48625723/convert-an-object-into-a-dictionary-of-object\n",
    "\n",
    "https://stackoverflow.com/questions/31892971/converting-string-to-javascript-dictionary\n",
    "\n",
    "https://developer.mozilla.org/es/docs/Web/JavaScript/Reference/Operators/typeof\n",
    "\n",
    "https://stackoverflow.com/questions/34913675/how-to-iterate-keys-values-in-javascript\n",
    "\n",
    "https://stackoverflow.com/questions/31892971/converting-string-to-javascript-dictionary\n",
    "\n",
    "https://developer.mozilla.org/es/docs/Web/JavaScript/Reference/Statements/for\n"
   ],
   "cell_type": "markdown",
   "metadata": {}
  },
  {
   "cell_type": "code",
   "execution_count": 67,
   "metadata": {},
   "outputs": [],
   "source": [
    "publicAccounts = {}"
   ]
  },
  {
   "cell_type": "code",
   "execution_count": 80,
   "metadata": {},
   "outputs": [],
   "source": [
    "'''import random, time\n",
    "from datetime import datetime\n",
    "\n",
    "n = 50\n",
    "accNum=[0, 0]\n",
    "for _ in range(50):\n",
    "    _accid = random.choice(['_sav', '_cur'])\n",
    "    status = random.choice([True, False])\n",
    "    sucursal = random.choice(['Santa Rosa', 'Medellin', 'Cali', 'Bucaramanga', 'Wuhan'])\n",
    "    creationDate = datetime.today().strftime(\"%d/%m/%Y-%H:%M:%S\")\n",
    "    if status == True: \n",
    "        money = 10000*random.choice([2,3,4,5,6,7,8,9,10,11,12,13,15,15,16])\n",
    "    else: \n",
    "        money = 0\n",
    "    if _accid == '_sav':\n",
    "        accNum[0]+=1\n",
    "        _accid = _accid + str(accNum[0])\n",
    "        rent = 1000*random.choice([1, 2, 3, 4])\n",
    "    else: \n",
    "         accNum[1]+=1\n",
    "         _accid = _accid + str(accNum[1])\n",
    "         rent = 0\n",
    "    publicAccounts[_accid] = {\"status\": status,\n",
    "        \"money\": money,\n",
    "        \"creationSucursal\": sucursal,\n",
    "        \"creationDate\": str(creationDate),\n",
    "        \"rent\": rent,\n",
    "        \"transacions\": [\n",
    "            \"_tranid list\"\n",
    "        ]}\n",
    "    time.sleep(1*random.choice([0, 0.1, 0.2, 0.3, 0.4, 0.5 , 0.6, 0.7, 0.8, 0.9, 1]))'''"
   ]
  },
  {
   "cell_type": "code",
   "execution_count": 2,
   "metadata": {},
   "outputs": [],
   "source": [
    "import requests, random, time\n",
    "for _ in range(50):\n",
    "    sucursal = random.choice(['Santa Rosa', 'Medellin', 'Cali', 'Bucaramanga', 'Wuhan'])\n",
    "    rent = 1000*random.choice([1, 2, 3, 4, 5, 0, 0, 0, 0, 0])\n",
    "    requests.post('http://localhost:3001/accounts', json = {\"creationSucursal\": sucursal, \"rent\": rent})\n",
    "    time.sleep(1*random.choice([1, 1.1, 1.2, 1.3, 1.4, 1.5 , 1.6, 1.7, 1.8, 1.9, 2]))\n"
   ]
  },
  {
   "cell_type": "code",
   "execution_count": null,
   "metadata": {},
   "outputs": [],
   "source": [
    "sucursal = random.choice(['Santa Rosa', 'Medellin', 'Cali', 'Bucaramanga', 'Wuhan'])\n",
    "rent = 1000*random.choice([1, 2, 3, 4, 5, 0, 0, 0, 0, 0])\n",
    "requests.post('http://localhost:3001/accounts', json = {\"creationSucursal\": sucursal, \"rent\": rent})"
   ]
  }
 ]
}