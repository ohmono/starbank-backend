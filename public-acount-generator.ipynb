{
 "metadata": {
  "language_info": {
   "codemirror_mode": {
    "name": "ipython",
    "version": 3
   },
   "file_extension": ".py",
   "mimetype": "text/x-python",
   "name": "python",
   "nbconvert_exporter": "python",
   "pygments_lexer": "ipython3",
   "version": "3.8.7"
  },
  "orig_nbformat": 2,
  "kernelspec": {
   "name": "python387jvsc74a57bd0cc691cb6f78b01aaf214942beb8a08c177de914380e5fed5a73e560f28ba4ae2",
   "display_name": "Python 3.8.7 64-bit"
  },
  "metadata": {
   "interpreter": {
    "hash": "cc691cb6f78b01aaf214942beb8a08c177de914380e5fed5a73e560f28ba4ae2"
   }
  }
 },
 "nbformat": 4,
 "nbformat_minor": 2,
 "cells": [
  {
   "source": [
    "https://stackoverflow.com/questions/306400/how-to-randomly-select-an-item-from-a-list\n",
    "\n",
    "https://stackoverflow.com/questions/32490629/getting-todays-date-in-yyyy-mm-dd-in-python\n",
    "\n",
    "https://realpython.com/python-sleep/\n",
    "\n",
    "https://www.w3schools.com/python/gloss_python_dictionary_add_item.asp\n",
    "\n",
    "https://flaviocopes.com/express-send-json-response/\n",
    "\n",
    "https://stackoverflow.com/questions/18810777/how-do-i-read-a-response-from-python-requests\n",
    "\n",
    "https://stackoverflow.com/questions/9733638/how-to-post-json-data-with-python-requests\n",
    "\n",
    "https://www.freecodecamp.org/news/javascript-date-now-how-to-get-the-current-date-in-javascript/\n",
    "\n",
    "https://developer.mozilla.org/es/docs/Web/JavaScript/Reference/Statements/if...else\n",
    "\n",
    "https://developer.mozilla.org/es/docs/Web/JavaScript/Reference/Statements/while\n",
    "\n",
    "https://developer.mozilla.org/es/docs/Learn/JavaScript/Objects/JSON\n",
    "\n",
    "https://stackoverflow.com/questions/48625723/convert-an-object-into-a-dictionary-of-object\n",
    "\n",
    "https://stackoverflow.com/questions/31892971/converting-string-to-javascript-dictionary\n",
    "\n",
    "https://developer.mozilla.org/es/docs/Web/JavaScript/Reference/Operators/typeof\n",
    "\n",
    "https://stackoverflow.com/questions/34913675/how-to-iterate-keys-values-in-javascript\n",
    "\n",
    "https://stackoverflow.com/questions/31892971/converting-string-to-javascript-dictionary\n",
    "\n",
    "https://developer.mozilla.org/es/docs/Web/JavaScript/Reference/Statements/for\n"
   ],
   "cell_type": "markdown",
   "metadata": {}
  },
  {
   "cell_type": "code",
   "execution_count": 20,
   "metadata": {},
   "outputs": [],
   "source": [
    "import requests, random, time\n",
    "for _ in range(4):\n",
    "    sucid = '_'+random.choice(['Santa Rosa', 'Medellin', 'Cali', 'Bucaramanga', 'Wuhan'])[:3]\n",
    "    accid = random.choice(['_sav', '_cur'])\n",
    "    usrid = str(random.randrange(10000000000))\n",
    "    requests.post('http://localhost:3001/accounts', json = {\"_sucid\": sucid, \"_accid\": accid, \"_usrid\": usrid})\n",
    "    time.sleep(1*random.choice([1, 1.1, 1.2, 1.3, 1.4, 1.5 , 1.6, 1.7, 1.8, 1.9, 2, 0]))"
   ]
  },
  {
   "cell_type": "code",
   "execution_count": null,
   "metadata": {},
   "outputs": [],
   "source": []
  }
 ]
}