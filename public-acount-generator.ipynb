{
 "metadata": {
  "language_info": {
   "codemirror_mode": {
    "name": "ipython",
    "version": 3
   },
   "file_extension": ".py",
   "mimetype": "text/x-python",
   "name": "python",
   "nbconvert_exporter": "python",
   "pygments_lexer": "ipython3",
   "version": "3.8.7"
  },
  "orig_nbformat": 2,
  "kernelspec": {
   "name": "python387jvsc74a57bd0cc691cb6f78b01aaf214942beb8a08c177de914380e5fed5a73e560f28ba4ae2",
   "display_name": "Python 3.8.7 64-bit"
  },
  "metadata": {
   "interpreter": {
    "hash": "cc691cb6f78b01aaf214942beb8a08c177de914380e5fed5a73e560f28ba4ae2"
   }
  }
 },
 "nbformat": 4,
 "nbformat_minor": 2,
 "cells": [
  {
   "cell_type": "code",
   "execution_count": 20,
   "metadata": {},
   "outputs": [],
   "source": [
    "import requests, random, time\n",
    "for _ in range(4):\n",
    "    sucid = '_'+random.choice(['Santa Rosa', 'Medellin', 'Cali', 'Bucaramanga', 'Wuhan'])[:3]\n",
    "    accid = random.choice(['_sav', '_cur'])\n",
    "    usrid = str(random.randrange(10000000000))\n",
    "    requests.post('http://localhost:3001/accounts', json = {\"_sucid\": sucid, \"_accid\": accid, \"_usrid\": usrid})\n",
    "    time.sleep(1*random.choice([1, 1.1, 1.2, 1.3, 1.4, 1.5 , 1.6, 1.7, 1.8, 1.9, 2, 0]))"
   ]
  }
 ]
}